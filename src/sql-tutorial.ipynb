{
 "cells": [
  {
   "cell_type": "markdown",
   "metadata": {},
   "source": [
    "## **Creating tables**\n",
    "\n",
    "In the `CREATE` statement we always use the same syntax when creating a new table. Inside the parenthesis we define the columns of the table, separated by commas. The general syntax would be as follows\n",
    "\n",
    "```sql\n",
    "CREATE TABLE IF NOT EXISTS <tableName> (\n",
    "    column1 <dataType> <tableConstraint> DEFAULT <defaultValue>,\n",
    "    column2 <dataType> <tableConstraint> DEFAULT <defaultValue>,\n",
    "    ...\n",
    "    columnN <dataType> <tableConstraint> DEFAULT <defaultValue>\n",
    ")\n",
    "```\n",
    "\n",
    "The structure of a table is solely defined by its data schema, which defines a series of columns. Each column has a name, a data type, and a set of constraints which are optional, as well as the optional default value for the column.\n",
    "\n",
    "\n",
    "### ***Data types***\n",
    "Different databases support different data types, but the common types support numeric, string and other ones such as dates, booleans, or even binary data. Here are some of the most common data types:\n",
    "\n",
    "| Data Type | Description |\n",
    "|-----------|-------------|\n",
    "| INT | Integer data type |\n",
    "| VARCHAR | Variable-length character string |\n",
    "| TEXT | Variable-length character string |\n",
    "| DATE | Date data type |\n",
    "| BOOLEAN | Boolean data type |\n",
    "| FLOAT | Floating-point number |\n",
    "\n",
    "\n",
    "### ***Constraints***\n",
    "Constraints are optional attributes that can be added to a column to define additional properties. Although being optional, sometimes they can become quite handy. Here are some of the most common constraints:\n",
    "\n",
    "| Constraint | Description |\n",
    "|------------|-------------|\n",
    "| NOT NULL | Specifies that the column cannot contain NULL values |\n",
    "| UNIQUE | Specifies that the column must contain unique values |\n",
    "| PRIMARY KEY | Specifies that the column is the primary key of the table |\n",
    "| DEFAULT | Specifies the default value for the column |\n",
    "| AUTO_INCREMENT | Specifies that the column is an auto-incrementing primary key |\n",
    "| FOREIGN KEY | Specifies a foreign key relationship between two tables |\n"
   ]
  },
  {
   "cell_type": "markdown",
   "metadata": {},
   "source": [
    "---"
   ]
  },
  {
   "cell_type": "markdown",
   "metadata": {},
   "source": [
    "## **Reading data from tables**\n",
    "\n",
    "Creating tables is relatively easy once we get used to the syntax, and determining which datatypes are more suitable for the columns. Reading data is also pretty easy, and we can use the `SELECT` statement to get the data we need, subjected to conditions as well.\n",
    "\n",
    "```sql\n",
    "SELECT column1, column2, ..., columnN\n",
    "FROM <tableName>;\n",
    "```\n",
    "\n",
    "In the select statement we can specify which columns we want to retrieve, and we can also specify conditions to filter the data by using constraints with the `WHERE` keyword.\n",
    "\n",
    "```sql\n",
    "SELECT column1, column2, ..., columnN\n",
    "FROM <tableName>\n",
    "    WHERE <condition1>\n",
    "        AND/OR <condition2>\n",
    "        AND/OR ... <conditionN>;\n",
    "```\n",
    "\n",
    "These constraints are used with logical operators, and the most common ones are\n",
    "\n",
    "- `=` for equality (case sensitive)\n",
    "- `LIKE` for case **insensitive exact** string matching\n",
    "- `<` for less than\n",
    "- `>` for greater than\n",
    "- `<=` for less than or equal to\n",
    "- `>=` for greater than or equal to\n",
    "- `<>` for not equal to ( `!=` ) and is also case sensitive\n",
    "- `IN` for checking if a value is in a list\n",
    "- `NOT IN` for checking if a value is not in a list\n",
    "- `BETWEEN AND` for checking if a value is between two values\n",
    "- `NOT BETWEEN AND` for checking if a value is not between two values\n",
    "- `%` is used anywhere in the string to match any sequence of zero or more characters. So for example `LIKE %AT%` will match to stuff like `CAT`, `AT`, `ATE`, `BAT`, etc.\n",
    "- `_` is used anywhere in the string to match a **single character**. So for example `LIKE AN_%` will match to stuff like `ANT`, `AND` but not `AN`\n",
    "\n",
    "### ***Ordering results***\n",
    "Sometimes can become difficult to read the results of a query, and we can use the `ORDER BY` keyword to sort the results by a column. To help this, we use the `ORDER BY` clause followed by the column name and the order we want to sort by. The order can be ascending (`ASC`) or descending (`DESC`).\n",
    "\n",
    "```sql\n",
    "SELECT column1, column2, ..., columnN\n",
    "FROM <tableName>\n",
    "ORDER BY <columnName> <ASC/DESC>;\n",
    "```\n",
    "\n",
    "### ***Limiting results***\n",
    "\n",
    "Sometimes we only want to retrieve a few rows from a table, and we can use the `LIMIT` keyword to limit the number of rows returned. The `LIMIT` keyword is followed by the number of rows we want to retrieve. We can also add an `OFFSET` keyword to skip a certain number of rows before retrieving the rows we want.\n",
    "\n",
    "```sql\n",
    "SELECT column1, column2, ..., columnN\n",
    "FROM <tableName>\n",
    "LIMIT <numberOfRows> OFFSET <numberOfRowsToSkip>;\n",
    "```\n",
    "\n",
    "So in summary, we can use the `SELECT` statement to retrieve data from a table, and we can use the `WHERE` and `ORDER BY` clauses to filter and sort the data, and the general syntax for this would be as follows\n",
    "\n",
    "```sql\n",
    "SELECT column1, column2, ..., columnN\n",
    "FROM <tableName>\n",
    "    WHERE <condition1>\n",
    "        AND/OR <condition2>\n",
    "        AND/OR ... <conditionN>\n",
    "    ORDER BY <columnName> <ASC/DESC>\n",
    "    LIMIT <numberOfRows> OFFSET <numberOfRowsToSkip>;"
   ]
  },
  {
   "cell_type": "markdown",
   "metadata": {},
   "source": [
    "---"
   ]
  },
  {
   "cell_type": "markdown",
   "metadata": {},
   "source": [
    "## **Insert operations**\n",
    "When inserting data into a database, we can use the INSERT statement, in which we declare what table to write into, the columns of data that we are filling and one or more rows of data to insert. In general, each row of data that is inserted should contain values for every corresponding column in the table and we can also insert multiples rows at a time by adding them sequentially.\n",
    "\n",
    "The following is an insert statement with values for all the columns in the table\n",
    "\n",
    "```sql\n",
    "INSERT INTO <tableName>\n",
    "VALUES \n",
    "(val11, val12, ..., val1N),\n",
    "(val21, val22, ..., val2N),\n",
    "(val31, val32, ..., val3N),\n",
    "...\n",
    "(valM1, valM2, ..., valMN);\n",
    "```\n",
    "\n",
    "We can also perform an insert  for specific columns as follows\n",
    "```sql\n",
    "INSERT INTO <tableName> (col1, col2, ..., colN)\n",
    "VALUES\n",
    "(val11, val12, ..., val1N),\n",
    "(val21, val22, ..., val2N),\n",
    "(val31, val32, ..., val3N),\n",
    "...\n",
    "(valM1, valM2, ..., valMN);\n",
    "```\n"
   ]
  },
  {
   "cell_type": "markdown",
   "metadata": {},
   "source": [
    "---"
   ]
  },
  {
   "cell_type": "markdown",
   "metadata": {},
   "source": [
    "## **Updating rows**\n",
    "Another common task in databases is updating records in a table, which is done via the `UPDATE` keyword, and just like the `INSERT` statement we have to specify exactly which table, columns and rows to update.\n",
    "\n",
    "```sql\n",
    "UPDATE <tableName>\n",
    "SET col1=val1\n",
    "\tcol2=val2,\n",
    "\t...,\n",
    "\tcolN=valN,\n",
    "WHERE condition;\n",
    "```\n",
    "\n",
    "The `WHERE` clause is extremely important, if not present, then the query will update all records in the table. One useful tip is to always write first the constraint and test in a `SELECT` query to make sure we are updating the right subset of data. It's also important to notice that we can use regex expression in the `WHERE` clause."
   ]
  },
  {
   "cell_type": "markdown",
   "metadata": {},
   "source": [
    "---"
   ]
  },
  {
   "cell_type": "markdown",
   "metadata": {},
   "source": [
    "\n",
    "\n",
    "## **Altering tables**\n",
    "As data changes over time, there is the possibility that a pre-existing table may need additional columns, and here is where we alter the table schema in order to add, remove or modify its columns and table constraints.\n",
    "\n",
    "#### ***Adding columns***\n",
    "```sql\n",
    "ALTER TABLE <tableName>\n",
    "ADD newCol <dataType> <optionalConstraint> DEFAULT <defaultValue>\n",
    "```\n",
    "\n",
    "#### ***Deleting columns***\n",
    "As said, we can remove columns in a table. However, some databases (like SQLite) don’t support this feature and a workaround for this would be to create a new table and migrate the data over\n",
    "```sql\n",
    "ALTER TABLE <tableName>\n",
    "DROP <col>;\n",
    "```\n",
    "#### ***Renaming tables***\n",
    "```sql\n",
    "ALTER <tableName>\n",
    "RENAME TO <newTableName>;\n",
    "```\n",
    "#### ***Updating column definition***\n",
    "Here is where it gets a little tricky, because updating column definition may differ depending on the database system (MySQL, PostgreSQL, SQL Server, Oracle, etc.) but typically goes as follows\n",
    "```sql\n",
    "/* Sentence to modify a column's data type */\n",
    "ALTER TABLE <tableName>\n",
    "MODIFY COLUMN <col> <newDataType>\n",
    "```\n",
    "```sql\n",
    "/* Sentence to modify a column's constraint */\n",
    "ALTER TABLE <tableName>\n",
    "MODIFY COLUMN <col> <columnConstrain>\n",
    "```\n",
    "We have to be very careful when modifying a column’s constrain because these queries will also apply to existing records, so if not careful, it can result in data loss, although this error handling also depends on the database system, since some of them will try to cast values to the newly datatype if possible, or set existing values to `NULL` (which is almost as bad as deleting them).\n",
    "\n",
    "#### ***Modifying primary and foreign keys***\n",
    "This is also a special one, because when altering the primary key of a table, we would typically drop it first and then add a new one\n",
    "```sql\n",
    "/* Dropping original primary key on the table */\n",
    "ALTER TABLE <tableName>\n",
    "DROP PRIMARY KEY;\n",
    "\n",
    "/* Adding new key in the table */\n",
    "ALTER TABLE <tableName>\n",
    "ADD PRIMARY KEY (<newKey>);\n",
    "```\n",
    "```sql\n",
    "ALTER TABLE <tableName>\n",
    "DROP FOREIGN KEY <foreignKey>;\n",
    "\n",
    "ALTER TABLE <tableName>\n",
    "ADD CONSTRAINT <foreignKey>\n",
    "FOREIGN KEY (<newForeignKey>) REFERENCES <referencedTable>(<newForeignKey>);\n",
    "```"
   ]
  },
  {
   "cell_type": "markdown",
   "metadata": {},
   "source": [
    "---"
   ]
  },
  {
   "cell_type": "markdown",
   "metadata": {},
   "source": [
    "## **Deleting rows**\n",
    "Just like the `UPDATE` clause, there is an option to delete specific rows from a table. It is also recommended to use a `SELECT` query with constraints before deleting any records\n",
    "```sql\n",
    "DELETE FROM <tableName>\n",
    "WHERE <condition>;\n",
    "```"
   ]
  },
  {
   "cell_type": "markdown",
   "metadata": {},
   "source": [
    "---"
   ]
  },
  {
   "cell_type": "markdown",
   "metadata": {},
   "source": [
    "\n",
    "## **Dropping tables**\n",
    "Just like the `ALTER` clause, we can also remove entire tables from the database. It is recommended to use the `IF EXISTS` clause so when running the SQL script it can do the check and avoid throwing errors\n",
    "```sql\n",
    "DROP TABLE IF EXISTS <tableName>;\n",
    "```"
   ]
  },
  {
   "cell_type": "markdown",
   "metadata": {},
   "source": [
    "---"
   ]
  },
  {
   "cell_type": "markdown",
   "metadata": {},
   "source": [
    "## **Best practices for using SQL**\n",
    "Using raw SQL to manipulate data is a doubled edge sword, because even though we can achieve extraordinary performance in the queries, we can delete or update rows pretty easily by accident. So here are some best practices for using SQL:\n",
    "\n",
    "1. Always use a `SELECT` statement before using `UPDATE` and `DELETE`\n",
    "2. Always use a `WHERE` clause in your `UPDATE` and `DELETE` statements\n",
    "3. Use `LIMIT` to reduce impact\n",
    "4. Enable foreign key constraints\n",
    "5. Have a backup before making any bulk changes"
   ]
  }
 ],
 "metadata": {
  "language_info": {
   "name": "python"
  }
 },
 "nbformat": 4,
 "nbformat_minor": 2
}
