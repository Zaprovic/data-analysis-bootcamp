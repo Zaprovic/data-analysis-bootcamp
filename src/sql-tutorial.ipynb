{
 "cells": [
  {
   "cell_type": "markdown",
   "metadata": {},
   "source": [
    "## **Creating tables**\n",
    "\n",
    "In the `CREATE` statement we always use the same syntax when creating a new table. Inside the parenthesis we define the columns of the table, separated by commas. The general syntax would be as follows\n",
    "\n",
    "```sql\n",
    "CREATE TABLE IF NOT EXISTS <tableName> (\n",
    "    column1 <dataType> <tableConstraint> DEFAULT <defaultValue>,\n",
    "    column2 <dataType> <tableConstraint> DEFAULT <defaultValue>,\n",
    "    ...\n",
    "    columnN <dataType> <tableConstraint> DEFAULT <defaultValue>\n",
    ")\n",
    "```\n",
    "\n",
    "The structure of a table is solely defined by its data schema, which defines a series of columns. Each column has a name, a data type, and a set of constraints which are optional, as well as the optional default value for the column.\n",
    "\n",
    "\n",
    "### **Data types**\n",
    "Different databases support different data types, but the common types support numeric, string and other ones such as dates, booleans, or even binary data. Here are some of the most common data types:\n",
    "\n",
    "| Data Type | Description |\n",
    "|-----------|-------------|\n",
    "| INT | Integer data type |\n",
    "| VARCHAR | Variable-length character string |\n",
    "| TEXT | Variable-length character string |\n",
    "| DATE | Date data type |\n",
    "| BOOLEAN | Boolean data type |\n",
    "| FLOAT | Floating-point number |\n",
    "\n",
    "\n",
    "### **Constraints**\n",
    "Constraints are optional attributes that can be added to a column to define additional properties. Although being optional, sometimes they can become quite handy. Here are some of the most common constraints:\n",
    "\n",
    "| Constraint | Description |\n",
    "|------------|-------------|\n",
    "| NOT NULL | Specifies that the column cannot contain NULL values |\n",
    "| UNIQUE | Specifies that the column must contain unique values |\n",
    "| PRIMARY KEY | Specifies that the column is the primary key of the table |\n",
    "| DEFAULT | Specifies the default value for the column |\n",
    "| AUTO_INCREMENT | Specifies that the column is an auto-incrementing primary key |\n",
    "| FOREIGN KEY | Specifies a foreign key relationship between two tables |\n"
   ]
  },
  {
   "cell_type": "markdown",
   "metadata": {},
   "source": [
    "---"
   ]
  },
  {
   "cell_type": "markdown",
   "metadata": {},
   "source": [
    "## **Reading data from tables**\n",
    "\n",
    "Creating tables is relatively easy once we get used to the syntax, and determining which datatypes are more suitable for the columns. Reading data is also pretty easy, and we can use the `SELECT` statement to get the data we need, subjected to conditions as well.\n",
    "\n",
    "```sql\n",
    "SELECT column1, column2, ..., columnN\n",
    "FROM <tableName>;\n",
    "```\n",
    "\n",
    "In the select statement we can specify which columns we want to retrieve, and we can also specify conditions to filter the data by using constraints with the `WHERE` keyword.\n",
    "\n",
    "```sql\n",
    "SELECT column1, column2, ..., columnN\n",
    "FROM <tableName>\n",
    "    WHERE <condition1>\n",
    "        AND/OR <condition2>\n",
    "        AND/OR ... <conditionN>;\n",
    "```\n",
    "\n",
    "These constraints are used with logical operators, and the most common ones are\n",
    "\n",
    "- `=` for equality (case sensitive)\n",
    "- `LIKE` for case **insensitive exact** string matching\n",
    "- `<` for less than\n",
    "- `>` for greater than\n",
    "- `<=` for less than or equal to\n",
    "- `>=` for greater than or equal to\n",
    "- `<>` for not equal to ( `!=` ) and is also case sensitive\n",
    "- `IN` for checking if a value is in a list\n",
    "- `NOT IN` for checking if a value is not in a list\n",
    "- `BETWEEN AND` for checking if a value is between two values\n",
    "- `NOT BETWEEN AND` for checking if a value is not between two values\n",
    "- `%` is used anywhere in the string to match any sequence of zero or more characters. So for example `LIKE %AT%` will match to stuff like `CAT`, `AT`, `ATE`, `BAT`, etc.\n",
    "- `_` is used anywhere in the string to match a **single character**. So for example `LIKE AN_%` will match to stuff like `ANT`, `AND` but not `AN`"
   ]
  }
 ],
 "metadata": {
  "language_info": {
   "name": "python"
  }
 },
 "nbformat": 4,
 "nbformat_minor": 2
}
