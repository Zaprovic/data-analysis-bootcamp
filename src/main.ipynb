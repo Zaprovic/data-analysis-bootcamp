{
 "cells": [
  {
   "cell_type": "code",
   "execution_count": 4,
   "metadata": {},
   "outputs": [],
   "source": [
    "import pandas as pd\n",
    "import numpy as np"
   ]
  },
  {
   "cell_type": "code",
   "execution_count": 27,
   "metadata": {},
   "outputs": [
    {
     "name": "stdout",
     "output_type": "stream",
     "text": [
      "Dataframe shape with NA values: (45215, 17)\n",
      "Dataframe shape with NA values: (45207, 17)\n"
     ]
    }
   ],
   "source": [
    "df = pd.read_csv(\"../data/dataset_banco.csv\")\n",
    "\n",
    "print(f'Dataframe shape with NA values: {df.shape}')\n",
    "\n",
    "df.dropna(inplace=True) # this drops NA values and updates the dataframe\n",
    "df = df.dropna() # this is equivalent to the code line above\n",
    "\n",
    "print(f'Dataframe shape with NA values: {df.shape}')"
   ]
  }
 ],
 "metadata": {
  "kernelspec": {
   "display_name": "base",
   "language": "python",
   "name": "python3"
  },
  "language_info": {
   "codemirror_mode": {
    "name": "ipython",
    "version": 3
   },
   "file_extension": ".py",
   "mimetype": "text/x-python",
   "name": "python",
   "nbconvert_exporter": "python",
   "pygments_lexer": "ipython3",
   "version": "3.11.11"
  }
 },
 "nbformat": 4,
 "nbformat_minor": 2
}
