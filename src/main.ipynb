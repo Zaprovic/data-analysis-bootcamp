{
 "cells": [
  {
   "cell_type": "code",
   "execution_count": 4,
   "metadata": {},
   "outputs": [],
   "source": [
    "import pandas as pd\n",
    "import numpy as np"
   ]
  },
  {
   "cell_type": "markdown",
   "metadata": {},
   "source": [
    "## **Cleaning data**\n",
    "\n",
    "Most of the time `NA` values are undesired, so we basically remove them by using the `.dropna()` method. There are two main ways to use this\n",
    "\n",
    "1. The first one is to simply do `df.dropna(inplace=True)`. The inplace argument will apply the change directly in the dataframe without having to reassign manually\n",
    "2. We can also do `df = df.dropna()` which is manually reassigning the new dataframe\n",
    "\n",
    "The `.dropna()` method also receives more arguments, to specify how do we want to remove `NA` values and more, which can be consulted in the documentation [here](https://pandas.pydata.org/docs/reference/api/pandas.DataFrame.dropna.html)"
   ]
  },
  {
   "cell_type": "code",
   "execution_count": 28,
   "metadata": {},
   "outputs": [
    {
     "name": "stdout",
     "output_type": "stream",
     "text": [
      "Dataframe shape with NA values: (45215, 17)\n",
      "Dataframe shape without NA values: (45207, 17)\n"
     ]
    }
   ],
   "source": [
    "df = pd.read_csv(\"../data/dataset_banco.csv\")\n",
    "\n",
    "print(f'Dataframe shape with NA values: {df.shape}')\n",
    "\n",
    "df.dropna(inplace=True) # this drops NA values and updates the dataframe\n",
    "df = df.dropna() # this is equivalent to the code line above\n",
    "\n",
    "print(f'Dataframe shape without NA values: {df.shape}')"
   ]
  }
 ],
 "metadata": {
  "kernelspec": {
   "display_name": "base",
   "language": "python",
   "name": "python3"
  },
  "language_info": {
   "codemirror_mode": {
    "name": "ipython",
    "version": 3
   },
   "file_extension": ".py",
   "mimetype": "text/x-python",
   "name": "python",
   "nbconvert_exporter": "python",
   "pygments_lexer": "ipython3",
   "version": "3.11.11"
  }
 },
 "nbformat": 4,
 "nbformat_minor": 2
}
