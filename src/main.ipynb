{
 "cells": [
  {
   "cell_type": "code",
   "execution_count": 4,
   "metadata": {},
   "outputs": [],
   "source": [
    "import pandas as pd\n",
    "import numpy as np"
   ]
  },
  {
   "cell_type": "code",
   "execution_count": null,
   "metadata": {},
   "outputs": [
    {
     "data": {
      "text/plain": [
       "array(['MatchID', 'Season', 'MatchWeek', 'Date', 'Time', 'HomeTeam',\n",
       "       'AwayTeam', 'FullTimeHomeTeamGoals', 'FullTimeAwayTeamGoals',\n",
       "       'FullTimeResult', 'HalfTimeHomeTeamGoals', 'HalfTimeAwayTeamGoals',\n",
       "       'HalfTimeResult', 'Referee', 'HomeTeamShots', 'AwayTeamShots',\n",
       "       'HomeTeamShotsOnTarget', 'AwayTeamShotsOnTarget',\n",
       "       'HomeTeamCorners', 'AwayTeamCorners', 'HomeTeamFouls',\n",
       "       'AwayTeamFouls', 'HomeTeamYellowCards', 'AwayTeamYellowCards',\n",
       "       'HomeTeamRedCards', 'AwayTeamRedCards', 'B365HomeTeam', 'B365Draw',\n",
       "       'B365AwayTeam', 'B365Over2.5Goals', 'B365Under2.5Goals',\n",
       "       'MarketMaxHomeTeam', 'MarketMaxDraw', 'MarketMaxAwayTeam',\n",
       "       'MarketAvgHomeTeam', 'MarketAvgDraw', 'MarketAvgAwayTeam',\n",
       "       'MarketMaxOver2.5Goals', 'MarketMaxUnder2.5Goals',\n",
       "       'MarketAvgOver2.5Goals', 'MarketAvgUnder2.5Goals',\n",
       "       'HomeTeamPoints', 'AwayTeamPoints'], dtype=object)"
      ]
     },
     "execution_count": 16,
     "metadata": {},
     "output_type": "execute_result"
    }
   ],
   "source": [
    "df = pd.read_csv(\"../data/premier-league.csv\")\n",
    "\n",
    "cols = np.array(df.columns)"
   ]
  }
 ],
 "metadata": {
  "kernelspec": {
   "display_name": "base",
   "language": "python",
   "name": "python3"
  },
  "language_info": {
   "codemirror_mode": {
    "name": "ipython",
    "version": 3
   },
   "file_extension": ".py",
   "mimetype": "text/x-python",
   "name": "python",
   "nbconvert_exporter": "python",
   "pygments_lexer": "ipython3",
   "version": "3.11.11"
  }
 },
 "nbformat": 4,
 "nbformat_minor": 2
}
